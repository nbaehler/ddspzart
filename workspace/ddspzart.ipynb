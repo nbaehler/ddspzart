{
 "cells": [
  {
   "cell_type": "markdown",
   "metadata": {},
   "source": [
    "# Multi-Instrument Timbre Transfer using Omnizart and DDSP\n",
    "\n",
    "This Notebook does illustrate how we combined those two pieces of software to\n",
    "create a multi-instrument timbre transfer system.\n",
    "\n",
    "This is a local version of the code that only runs on the CPU. Hence, it takes\n",
    "some time to run. Using a GPU lead to issues with Tensorflow on our local\n",
    "machine. In parallel we also ran this code on the Scitas Izar cluster where we\n",
    "did have those issues but unfortunately the synthesizer software to resynthesize\n",
    "the midis generated bby Omnizart is not installable on the cluster. Thus, the\n",
    "workflow was rather unpractical involving downloading the midis, synthesizing\n",
    "them and then uploading those audio files back to the cluster."
   ]
  },
  {
   "cell_type": "code",
   "execution_count": 1,
   "metadata": {},
   "outputs": [],
   "source": [
    "from omni_transcribe import transcribe, synth\n",
    "from ddsp_timbre_transfer import timbre_transfer\n",
    "from utils import combine_wavs\n",
    "import scipy.io.wavfile as wave\n",
    "\n",
    "# Disable GPU\n",
    "import tensorflow as tf\n",
    "gpus = tf.config.list_physical_devices(device_type = 'GPU')\n",
    "tf.config.experimental.set_memory_growth(gpus[0], True)\n",
    "tf.config.set_visible_devices([], 'GPU')"
   ]
  },
  {
   "cell_type": "markdown",
   "metadata": {},
   "source": [
    "Use Omnizart to perform source separation and transcribe the different\n",
    "instruments into separate midi files."
   ]
  },
  {
   "cell_type": "code",
   "execution_count": null,
   "metadata": {},
   "outputs": [],
   "source": [
    "# Transcribe to midi\n",
    "filename = \"test.wav\"\n",
    "midis = transcribe(filename)"
   ]
  },
  {
   "cell_type": "markdown",
   "metadata": {},
   "source": [
    "At this point, the midis must be resynthesized using a software synthesizer\n",
    "because DDSP takes wav files as input and not midis directly."
   ]
  },
  {
   "cell_type": "code",
   "execution_count": null,
   "metadata": {},
   "outputs": [],
   "source": [
    "# Synthesize midi to wav files\n",
    "for midi in midis:\n",
    "    synth(midi)"
   ]
  },
  {
   "cell_type": "markdown",
   "metadata": {},
   "source": [
    "At this stage, the timbre transfer enabled through DDSP is applied to each of\n",
    "the separated instruments."
   ]
  },
  {
   "cell_type": "code",
   "execution_count": null,
   "metadata": {},
   "outputs": [],
   "source": [
    "wavs = [midi[2:].replace(\".mid\",\"\")+\"_synth.wav\" for midi in midis]\n",
    "valid_wavs = [wav for wav in wavs if wave.read(wav)[1].size > 0]\n",
    "\n",
    "# {\"Violin\", \"Flute\", \"Flute2\", \"Trumpet\", \"Tenor_Saxophone\"}\n",
    "all_instruments = [\"Violin\", \"Flute\", \"Trumpet\", \"Tenor_Saxophone\"]\n",
    "length_instr = len(all_instruments)\n",
    "instruments = [all_instruments[i % length_instr] for i in range(len(valid_wavs))]\n",
    "\n",
    "pairs = zip(valid_wavs, instruments)\n",
    "\n",
    "# Perform timbre transfer\n",
    "results = [timbre_transfer(wav, instrument) for wav, instrument in pairs]"
   ]
  },
  {
   "cell_type": "markdown",
   "metadata": {},
   "source": [
    "And finally those different audio files, each with a transferred timbre, are\n",
    "combined back into a single audio file, resulting in a timbre-transferred multi\n",
    "instrument track."
   ]
  },
  {
   "cell_type": "code",
   "execution_count": null,
   "metadata": {},
   "outputs": [],
   "source": [
    "# Combine wav files into one\n",
    "out_path = \"result.wav\"\n",
    "combine_wavs(results, out_path)"
   ]
  }
 ],
 "metadata": {
  "kernelspec": {
   "display_name": "Python 3.8.13 ('.venv': venv)",
   "language": "python",
   "name": "python3"
  },
  "language_info": {
   "codemirror_mode": {
    "name": "ipython",
    "version": 3
   },
   "file_extension": ".py",
   "mimetype": "text/x-python",
   "name": "python",
   "nbconvert_exporter": "python",
   "pygments_lexer": "ipython3",
   "version": "3.8.13"
  },
  "orig_nbformat": 4,
  "vscode": {
   "interpreter": {
    "hash": "f0c48a2510500372683021a8da20ae8a85be53b22e7c072f2fffd3068dfe896b"
   }
  }
 },
 "nbformat": 4,
 "nbformat_minor": 2
}
