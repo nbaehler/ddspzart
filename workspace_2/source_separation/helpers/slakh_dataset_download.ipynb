{
 "cells": [
  {
   "cell_type": "markdown",
   "metadata": {},
   "source": [
    "# SLAKH Dataset Working"
   ]
  },
  {
   "cell_type": "code",
   "execution_count": 2,
   "metadata": {},
   "outputs": [
    {
     "name": "stdout",
     "output_type": "stream",
     "text": [
      "The autoreload extension is already loaded. To reload it, use:\n",
      "  %reload_ext autoreload\n"
     ]
    }
   ],
   "source": [
    "import os\n",
    "import yaml\n",
    "from benedict import benedict\n",
    "import matplotlib.pyplot as plt\n",
    "import torch\n",
    "import mirdata\n",
    "import time\n",
    "\n",
    "%load_ext autoreload\n",
    "%autoreload 2\n",
    "\n",
    "# from use_openunmix import Target, Track, SlakhDataset"
   ]
  },
  {
   "cell_type": "code",
   "execution_count": 3,
   "metadata": {},
   "outputs": [],
   "source": [
    "import mirdata\n",
    "import time"
   ]
  },
  {
   "cell_type": "code",
   "execution_count": 4,
   "metadata": {},
   "outputs": [
    {
     "name": "stdout",
     "output_type": "stream",
     "text": [
      "['acousticbrainz_genre', 'beatles', 'beatport_key', 'billboard', 'cante100', 'compmusic_jingju_acappella', 'compmusic_otmm_makam', 'da_tacos', 'dagstuhl_choirset', 'dali', 'freesound_one_shot_percussive_sounds', 'giantsteps_key', 'giantsteps_tempo', 'good_sounds', 'groove_midi', 'gtzan_genre', 'guitarset', 'haydn_op20', 'ikala', 'irmas', 'maestro', 'medley_solos_db', 'medleydb_melody', 'medleydb_pitch', 'mridangam_stroke', 'mtg_jamendo_autotagging_moodtheme', 'orchset', 'phenicx_anechoic', 'queen', 'rwc_classical', 'rwc_jazz', 'rwc_popular', 'salami', 'saraga_carnatic', 'saraga_hindustani', 'slakh', 'tinysol', 'tonality_classicaldb', 'tonas', 'vocadito']\n",
      "{'2100-redux': <mirdata.download_utils.RemoteFileMetadata object at 0x7f4264b5e940>, 'baby': <mirdata.download_utils.RemoteFileMetadata object at 0x7f42312d1730>}\n"
     ]
    }
   ],
   "source": [
    "dataset = mirdata.initialize('slakh',\"/media/olaf/OlafSSD/03_Dokumente/01_epfl/01_cm\")\n",
    "print(mirdata.list_datasets())\n",
    "print(dataset.remotes)\n",
    "# dataset.download(['2100-redux'])\n",
    "slakh_data = dataset.load_tracks()"
   ]
  },
  {
   "cell_type": "code",
   "execution_count": 5,
   "metadata": {},
   "outputs": [
    {
     "name": "stdout",
     "output_type": "stream",
     "text": [
      "Track00001-S00 /media/olaf/OlafSSD/03_Dokumente/01_epfl/01_cm/slakh2100_flac_redux/train/Track00001/stems/S00.flac\n",
      "Track00001-S01 /media/olaf/OlafSSD/03_Dokumente/01_epfl/01_cm/slakh2100_flac_redux/train/Track00001/stems/S01.flac\n",
      "Track00001-S02 /media/olaf/OlafSSD/03_Dokumente/01_epfl/01_cm/slakh2100_flac_redux/train/Track00001/stems/S02.flac\n"
     ]
    },
    {
     "ename": "FileNotFoundError",
     "evalue": "[Errno 2] No such file or directory: '/media/olaf/OlafSSD/03_Dokumente/01_epfl/01_cm/slakh2100_flac_redux/train/Track00001/stems/S02.flac'",
     "output_type": "error",
     "traceback": [
      "\u001b[0;31m---------------------------------------------------------------------------\u001b[0m",
      "\u001b[0;31mFileNotFoundError\u001b[0m                         Traceback (most recent call last)",
      "\u001b[1;32m/home/nicolas/workspace/ma/ma4/ddspzart/workspace_2/source_separation/helpers/slakh_dataset_download.ipynb Cell 5\u001b[0m in \u001b[0;36m<cell line: 4>\u001b[0;34m()\u001b[0m\n\u001b[1;32m      <a href='vscode-notebook-cell:/home/nicolas/workspace/ma/ma4/ddspzart/workspace_2/source_separation/helpers/slakh_dataset_download.ipynb#ch0000004?line=0'>1</a>\u001b[0m \u001b[39mfor\u001b[39;00m track_id \u001b[39min\u001b[39;00m dataset\u001b[39m.\u001b[39mtrack_ids[:\u001b[39m3\u001b[39m]:\n\u001b[1;32m      <a href='vscode-notebook-cell:/home/nicolas/workspace/ma/ma4/ddspzart/workspace_2/source_separation/helpers/slakh_dataset_download.ipynb#ch0000004?line=1'>2</a>\u001b[0m     \u001b[39mprint\u001b[39m(track_id, dataset\u001b[39m.\u001b[39mtrack(track_id)\u001b[39m.\u001b[39maudio_path)\n\u001b[0;32m----> <a href='vscode-notebook-cell:/home/nicolas/workspace/ma/ma4/ddspzart/workspace_2/source_separation/helpers/slakh_dataset_download.ipynb#ch0000004?line=3'>4</a>\u001b[0m mirdata\u001b[39m.\u001b[39;49mdatasets\u001b[39m.\u001b[39;49mslakh\u001b[39m.\u001b[39;49mload_audio(dataset\u001b[39m.\u001b[39;49mtrack(track_id)\u001b[39m.\u001b[39;49maudio_path)\n",
      "File \u001b[0;32m~/workspace/ma/ma4/ddspzart/.venv/lib/python3.8/site-packages/mirdata/io.py:44\u001b[0m, in \u001b[0;36mcoerce_to_bytes_io.<locals>.wrapper\u001b[0;34m(file_path_or_obj)\u001b[0m\n\u001b[1;32m     42\u001b[0m     \u001b[39mreturn\u001b[39;00m \u001b[39mNone\u001b[39;00m\n\u001b[1;32m     43\u001b[0m \u001b[39mif\u001b[39;00m \u001b[39misinstance\u001b[39m(file_path_or_obj, \u001b[39mstr\u001b[39m):\n\u001b[0;32m---> 44\u001b[0m     \u001b[39mwith\u001b[39;00m \u001b[39mopen\u001b[39;49m(file_path_or_obj, \u001b[39m\"\u001b[39;49m\u001b[39mrb\u001b[39;49m\u001b[39m\"\u001b[39;49m) \u001b[39mas\u001b[39;00m f:\n\u001b[1;32m     45\u001b[0m         \u001b[39mreturn\u001b[39;00m func(f)\n\u001b[1;32m     46\u001b[0m \u001b[39melif\u001b[39;00m \u001b[39misinstance\u001b[39m(file_path_or_obj, io\u001b[39m.\u001b[39mBytesIO):\n",
      "File \u001b[0;32m~/workspace/ma/ma4/ddspzart/.venv/lib/python3.8/site-packages/smart_open/smart_open_lib.py:177\u001b[0m, in \u001b[0;36mopen\u001b[0;34m(uri, mode, buffering, encoding, errors, newline, closefd, opener, compression, transport_params)\u001b[0m\n\u001b[1;32m    174\u001b[0m \u001b[39mif\u001b[39;00m transport_params \u001b[39mis\u001b[39;00m \u001b[39mNone\u001b[39;00m:\n\u001b[1;32m    175\u001b[0m     transport_params \u001b[39m=\u001b[39m {}\n\u001b[0;32m--> 177\u001b[0m fobj \u001b[39m=\u001b[39m _shortcut_open(\n\u001b[1;32m    178\u001b[0m     uri,\n\u001b[1;32m    179\u001b[0m     mode,\n\u001b[1;32m    180\u001b[0m     compression\u001b[39m=\u001b[39;49mcompression,\n\u001b[1;32m    181\u001b[0m     buffering\u001b[39m=\u001b[39;49mbuffering,\n\u001b[1;32m    182\u001b[0m     encoding\u001b[39m=\u001b[39;49mencoding,\n\u001b[1;32m    183\u001b[0m     errors\u001b[39m=\u001b[39;49merrors,\n\u001b[1;32m    184\u001b[0m     newline\u001b[39m=\u001b[39;49mnewline,\n\u001b[1;32m    185\u001b[0m )\n\u001b[1;32m    186\u001b[0m \u001b[39mif\u001b[39;00m fobj \u001b[39mis\u001b[39;00m \u001b[39mnot\u001b[39;00m \u001b[39mNone\u001b[39;00m:\n\u001b[1;32m    187\u001b[0m     \u001b[39mreturn\u001b[39;00m fobj\n",
      "File \u001b[0;32m~/workspace/ma/ma4/ddspzart/.venv/lib/python3.8/site-packages/smart_open/smart_open_lib.py:363\u001b[0m, in \u001b[0;36m_shortcut_open\u001b[0;34m(uri, mode, compression, buffering, encoding, errors, newline)\u001b[0m\n\u001b[1;32m    360\u001b[0m \u001b[39mif\u001b[39;00m errors \u001b[39mand\u001b[39;00m \u001b[39m'\u001b[39m\u001b[39mb\u001b[39m\u001b[39m'\u001b[39m \u001b[39mnot\u001b[39;00m \u001b[39min\u001b[39;00m mode:\n\u001b[1;32m    361\u001b[0m     open_kwargs[\u001b[39m'\u001b[39m\u001b[39merrors\u001b[39m\u001b[39m'\u001b[39m] \u001b[39m=\u001b[39m errors\n\u001b[0;32m--> 363\u001b[0m \u001b[39mreturn\u001b[39;00m _builtin_open(local_path, mode, buffering\u001b[39m=\u001b[39;49mbuffering, \u001b[39m*\u001b[39;49m\u001b[39m*\u001b[39;49mopen_kwargs)\n",
      "\u001b[0;31mFileNotFoundError\u001b[0m: [Errno 2] No such file or directory: '/media/olaf/OlafSSD/03_Dokumente/01_epfl/01_cm/slakh2100_flac_redux/train/Track00001/stems/S02.flac'"
     ]
    }
   ],
   "source": [
    "for track_id in dataset.track_ids[:3]:\n",
    "    print(track_id, dataset.track(track_id).audio_path)\n",
    "\n",
    "mirdata.datasets.slakh.load_audio(dataset.track(track_id).audio_path) #TODO does not work on my machine"
   ]
  },
  {
   "cell_type": "code",
   "execution_count": null,
   "metadata": {},
   "outputs": [
    {
     "ename": "AttributeError",
     "evalue": "module 'mirdata' has no attribute 'datasets'",
     "output_type": "error",
     "traceback": [
      "\u001b[0;31m---------------------------------------------------------------------------\u001b[0m",
      "\u001b[0;31mAttributeError\u001b[0m                            Traceback (most recent call last)",
      "\u001b[1;32m/home/olaf/Documents/GitHub/ddspzart/workspace_2/source_separation/slakh_dataset.ipynb Cell 18'\u001b[0m in \u001b[0;36m<cell line: 2>\u001b[0;34m()\u001b[0m\n\u001b[1;32m      <a href='vscode-notebook-cell:/home/olaf/Documents/GitHub/ddspzart/workspace_2/source_separation/slakh_dataset.ipynb#ch0000023?line=0'>1</a>\u001b[0m DATASET_FOLDER \u001b[39m=\u001b[39m \u001b[39m\"\u001b[39m\u001b[39m/media/olaf/OlafSSD/03_Dokumente/01_epfl/01_cm/slakh2100_flac_redux/train\u001b[39m\u001b[39m\"\u001b[39m\n\u001b[0;32m----> <a href='vscode-notebook-cell:/home/olaf/Documents/GitHub/ddspzart/workspace_2/source_separation/slakh_dataset.ipynb#ch0000023?line=1'>2</a>\u001b[0m mirdata\u001b[39m.\u001b[39;49mdatasets\u001b[39m.\u001b[39mslakh\u001b[39m.\u001b[39mload_audio(DATASET_FOLDER\u001b[39m+\u001b[39m\u001b[39m\"\u001b[39m\u001b[39m/Track00001/stems/S01.flac\u001b[39m\u001b[39m\"\u001b[39m)\n",
      "\u001b[0;31mAttributeError\u001b[0m: module 'mirdata' has no attribute 'datasets'"
     ]
    }
   ],
   "source": [
    "DATASET_FOLDER = \"/media/olaf/OlafSSD/03_Dokumente/01_epfl/01_cm/slakh2100_flac_redux/train\"\n",
    "mirdata.datasets.slakh.load_audio(DATASET_FOLDER+\"/Track00001/stems/S01.flac\") #TODO does not work on my machine"
   ]
  }
 ],
 "metadata": {
  "kernelspec": {
   "display_name": "Python 3.8.13 ('.venv': venv)",
   "language": "python",
   "name": "python3"
  },
  "language_info": {
   "codemirror_mode": {
    "name": "ipython",
    "version": 3
   },
   "file_extension": ".py",
   "mimetype": "text/x-python",
   "name": "python",
   "nbconvert_exporter": "python",
   "pygments_lexer": "ipython3",
   "version": "3.8.13"
  },
  "vscode": {
   "interpreter": {
    "hash": "f0c48a2510500372683021a8da20ae8a85be53b22e7c072f2fffd3068dfe896b"
   }
  }
 },
 "nbformat": 4,
 "nbformat_minor": 2
}
