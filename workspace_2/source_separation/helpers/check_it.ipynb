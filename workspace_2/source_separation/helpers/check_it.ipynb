{
 "cells": [
  {
   "cell_type": "code",
   "execution_count": 4,
   "metadata": {},
   "outputs": [
    {
     "name": "stdout",
     "output_type": "stream",
     "text": [
      "GPU available: True\n",
      "/home/nicolas/workspace/ma/ma4/ddspzart/workspace_2/open-unmix-pytorch\n"
     ]
    }
   ],
   "source": [
    "import torch\n",
    "import torch.utils\n",
    "import torch.utils.data\n",
    "print(\"GPU available:\", torch.cuda.is_available())\n",
    "\n",
    "%cd ../../open-unmix-pytorch\n",
    "\n",
    "import openunmix\n",
    "import scipy.signal\n",
    "from IPython.display import Audio, display\n",
    "import numpy as np\n",
    "from tqdm import tnrange, tqdm_notebook\n",
    "import matplotlib.pyplot as plt\n",
    "from matplotlib import gridspec\n",
    "import warnings\n",
    "import random\n",
    "import sklearn.preprocessing\n",
    "import norbert\n",
    "import musdb\n",
    "warnings.simplefilter(action='ignore', category=FutureWarning)"
   ]
  },
  {
   "cell_type": "code",
   "execution_count": 5,
   "metadata": {},
   "outputs": [
    {
     "name": "stderr",
     "output_type": "stream",
     "text": [
      "Using cache found in /home/nicolas/.cache/torch/hub/sigsep_open-unmix-pytorch_master\n"
     ]
    }
   ],
   "source": [
    "separator = torch.hub.load('sigsep/open-unmix-pytorch', 'umxhq')"
   ]
  },
  {
   "cell_type": "code",
   "execution_count": 6,
   "metadata": {},
   "outputs": [
    {
     "ename": "AttributeError",
     "evalue": "module 'mirdata' has no attribute 'datasets'",
     "output_type": "error",
     "traceback": [
      "\u001b[0;31m---------------------------------------------------------------------------\u001b[0m",
      "\u001b[0;31mAttributeError\u001b[0m                            Traceback (most recent call last)",
      "\u001b[1;32m/home/nicolas/workspace/ma/ma4/ddspzart/workspace_2/source_separation/helpers/check_it.ipynb Cell 3\u001b[0m in \u001b[0;36m<cell line: 3>\u001b[0;34m()\u001b[0m\n\u001b[1;32m      <a href='vscode-notebook-cell:/home/nicolas/workspace/ma/ma4/ddspzart/workspace_2/source_separation/helpers/check_it.ipynb#ch0000002?line=0'>1</a>\u001b[0m \u001b[39mimport\u001b[39;00m \u001b[39mmirdata\u001b[39;00m\n\u001b[1;32m      <a href='vscode-notebook-cell:/home/nicolas/workspace/ma/ma4/ddspzart/workspace_2/source_separation/helpers/check_it.ipynb#ch0000002?line=1'>2</a>\u001b[0m DATASET_FOLDER \u001b[39m=\u001b[39m \u001b[39m\"\u001b[39m\u001b[39m../datasets/babyslakh_16k\u001b[39m\u001b[39m\"\u001b[39m\n\u001b[0;32m----> <a href='vscode-notebook-cell:/home/nicolas/workspace/ma/ma4/ddspzart/workspace_2/source_separation/helpers/check_it.ipynb#ch0000002?line=2'>3</a>\u001b[0m mirdata\u001b[39m.\u001b[39;49mdatasets\u001b[39m.\u001b[39mslakh\u001b[39m.\u001b[39mload_audio(DATASET_FOLDER \u001b[39m+\u001b[39m \u001b[39m\"\u001b[39m\u001b[39m/\u001b[39m\u001b[39m\"\u001b[39m \u001b[39m+\u001b[39m \u001b[39m\"\u001b[39m\u001b[39mTrack00003\u001b[39m\u001b[39m\"\u001b[39m \u001b[39m+\u001b[39m \u001b[39m\"\u001b[39m\u001b[39m/mix.wav\u001b[39m\u001b[39m\"\u001b[39m)\n",
      "\u001b[0;31mAttributeError\u001b[0m: module 'mirdata' has no attribute 'datasets'"
     ]
    }
   ],
   "source": [
    "import mirdata\n",
    "DATASET_FOLDER = \"../datasets/babyslakh_16k\"\n",
    "mirdata.datasets.slakh.load_audio(DATASET_FOLDER + \"/\" + \"Track00003\" + \"/mix.wav\") #TODO does not work on my machine"
   ]
  }
 ],
 "metadata": {
  "kernelspec": {
   "display_name": "Python 3.8.13 ('.venv': venv)",
   "language": "python",
   "name": "python3"
  },
  "language_info": {
   "codemirror_mode": {
    "name": "ipython",
    "version": 3
   },
   "file_extension": ".py",
   "mimetype": "text/x-python",
   "name": "python",
   "nbconvert_exporter": "python",
   "pygments_lexer": "ipython3",
   "version": "3.8.13"
  },
  "orig_nbformat": 4,
  "vscode": {
   "interpreter": {
    "hash": "f0c48a2510500372683021a8da20ae8a85be53b22e7c072f2fffd3068dfe896b"
   }
  }
 },
 "nbformat": 4,
 "nbformat_minor": 2
}
