{
 "cells": [
  {
   "cell_type": "markdown",
   "metadata": {},
   "source": [
    "# Demonstration Augmentation\n"
   ]
  },
  {
   "cell_type": "code",
   "execution_count": 1,
   "metadata": {},
   "outputs": [],
   "source": [
    "\n",
    "import librosa, librosa.display\n",
    "from scipy import interpolate\n",
    "import ipywidgets as widgets\n",
    "from IPython.display import Audio, display\n",
    "import matplotlib.pyplot as plt\n",
    "import numpy as np\n",
    "\n",
    "import pyrubberband\n",
    "\n",
    "%load_ext autoreload\n",
    "%autoreload 2\n",
    "\n",
    "import augmentation"
   ]
  },
  {
   "cell_type": "code",
   "execution_count": null,
   "metadata": {},
   "outputs": [],
   "source": [
    "# Helper functions by C&M class\n",
    "\n",
    "def multiplay(clips, sf, title=None):\n",
    "    outs = [widgets.Output() for c in clips]\n",
    "    for ix, item in enumerate(clips):\n",
    "        with outs[ix]:\n",
    "            print(title[ix] if title is not None else \"\")\n",
    "            display(Audio(item, rate=sf, normalize=True))\n",
    "    return widgets.HBox(outs)\n",
    "\n",
    "def tapering_window(N, overlap):\n",
    "    R = int(N * overlap / 2)\n",
    "    r = np.arange(0, R) / float(R)\n",
    "    win = np.r_[r, np.ones(N - 2*R), r[::-1]]\n",
    "    stride = N - R - 1 if R > 0 else N\n",
    "    return win, stride\n",
    "\n",
    "def pitchshift_gs_rt(x, alpha, grain_size, overlap=0.4):\n",
    "    win, stride = tapering_window(grain_size, overlap)\n",
    "    # resampling needs these many input samples to produce an output grain of the chosen size\n",
    "    chunk_size = int(np.floor(grain_size + 1) * alpha)\n",
    "    y = np.zeros(len(x))\n",
    "    # input chunks and output grains are always aligned in pitch shifting (in_hop = out_hop = stride)\n",
    "    for n in range(0, len(x) - max(chunk_size, grain_size), stride):\n",
    "        y[n:n+grain_size] += resample(x[n:n+chunk_size], 1 / alpha) * win\n",
    "    return y\n",
    "semitone = 2 ** (1.0 / 12)\n",
    "def ms2n(ms, sf):\n",
    "    return int(float(sf) * float(ms) / 1000.0)\n",
    "def resample(x, alpha):\n",
    "    # length of the output signal after resampling\n",
    "    n_out = int(np.floor(len(x) * alpha))\n",
    "    y = np.zeros(n_out)\n",
    "    for iy in range(0, n_out - 1):\n",
    "        t = iy / alpha \n",
    "        ix = int(t)\n",
    "        y[iy] = (1 - (t - ix)) * x[ix] + (t - ix) * x[ix + 1] \n",
    "    return y"
   ]
  }
 ],
 "metadata": {
  "kernelspec": {
   "display_name": "Python 3.8.10 ('.source_sep_venv': venv)",
   "language": "python",
   "name": "python3"
  },
  "language_info": {
   "codemirror_mode": {
    "name": "ipython",
    "version": 3
   },
   "file_extension": ".py",
   "mimetype": "text/x-python",
   "name": "python",
   "nbconvert_exporter": "python",
   "pygments_lexer": "ipython3",
   "version": "3.8.10"
  },
  "orig_nbformat": 4,
  "vscode": {
   "interpreter": {
    "hash": "780cb9c1f977b169b80a23eced14287869b96d9e70350cede00f0a25a24c3ff7"
   }
  }
 },
 "nbformat": 4,
 "nbformat_minor": 2
}
