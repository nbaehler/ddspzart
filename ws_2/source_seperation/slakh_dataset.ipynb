{
 "cells": [
  {
   "cell_type": "markdown",
   "metadata": {},
   "source": [
    "# SLAKH Dataset Working"
   ]
  },
  {
   "cell_type": "code",
   "execution_count": 1,
   "metadata": {},
   "outputs": [],
   "source": [
    "import os\n",
    "import yaml\n",
    "from benedict import benedict\n",
    "import matplotlib.pyplot as plt\n",
    "import torch\n",
    "import mirdata\n",
    "import time\n",
    "\n",
    "%load_ext autoreload\n",
    "%autoreload 2\n",
    "\n",
    "from use_openunmix import Target, Track, SlakhDataset"
   ]
  },
  {
   "cell_type": "code",
   "execution_count": 2,
   "metadata": {},
   "outputs": [
    {
     "data": {
      "application/vnd.jupyter.widget-view+json": {
       "model_id": "2b860215312042ca90484f32d535b0bf",
       "version_major": 2,
       "version_minor": 0
      },
      "text/plain": [
       "  0%|          | 0/1289 [00:00<?, ?it/s]"
      ]
     },
     "metadata": {},
     "output_type": "display_data"
    }
   ],
   "source": [
    "slakh_dataset = SlakhDataset()\n",
    "\n",
    "# 0.036s for loading of stem audio\n",
    "# 0.097s for loading of mix audio"
   ]
  },
  {
   "cell_type": "code",
   "execution_count": 14,
   "metadata": {},
   "outputs": [
    {
     "name": "stdout",
     "output_type": "stream",
     "text": [
      "Fretless Bass\n"
     ]
    }
   ],
   "source": [
    "slakh_dataset.target = \"Trumpet\"\n",
    "slakh_dataset.filter_target()\n",
    "print(slakh_dataset.tracks[0].targets[0].instrument)\n",
    "# print(slakh_dataset.targets)"
   ]
  },
  {
   "cell_type": "code",
   "execution_count": 47,
   "metadata": {},
   "outputs": [],
   "source": [
    "for i in range(5):\n",
    "    slakh_dataset[0][0].shape"
   ]
  },
  {
   "cell_type": "code",
   "execution_count": null,
   "metadata": {},
   "outputs": [],
   "source": [
    "for i in range(len(slakh_dataset.tracks)):\n",
    "    print(slakh_dataset.tracks[i],\" -> \",[slakh_dataset.tracks[i].targets[j].instrument for j in range(len(slakh_dataset.tracks[i].targets))])"
   ]
  },
  {
   "cell_type": "code",
   "execution_count": 48,
   "metadata": {},
   "outputs": [],
   "source": [
    "# des_targets = set()\n",
    "# des_tracks = set()\n",
    "# for tr,track in enumerate(slakh_dataset.all_tracks):\n",
    "#     for ta, target in enumerate(track.targets):\n",
    "#         if target.instrument == 'French Horn':\n",
    "#             des_targets.add(target)\n",
    "#             des_tracks.add(track)\n",
    "# print(list(des_targets))\n",
    "# print(list(des_tracks))"
   ]
  },
  {
   "cell_type": "markdown",
   "metadata": {},
   "source": [
    "## Functions helpful for filtering the dataset"
   ]
  },
  {
   "cell_type": "code",
   "execution_count": 52,
   "metadata": {},
   "outputs": [],
   "source": [
    "DATASET_FOLDER = \"/media/olaf/OlafSSD/03_Dokumente/01_epfl/01_cm/slakh2100_flac_redux/train\"\n",
    "\n",
    "track_folders = sorted(os.listdir(DATASET_FOLDER))\n",
    "stem_audio_paths = {}\n",
    "mix_audio_paths = {}\n",
    "\n",
    "instruments = []\n",
    "instruments_folder = []\n",
    "\n",
    "for track_folder in track_folders:\n",
    "    d = benedict.from_yaml(DATASET_FOLDER + \"/\"+ track_folder + \"/metadata.yaml\")\n",
    "    instruments_stem = []\n",
    "    mix_audio_paths[track_folder[-5:]] = DATASET_FOLDER + \"/\" + track_folder + \"/mix.wav\"\n",
    "    stems = {}\n",
    "    for stem in sorted(d[\"stems\"].keys()):\n",
    "        stems[stem] = DATASET_FOLDER + \"/\" + track_folder + \"/stems/\" + stem + \".wav\"\n",
    "        instrument = d[\"stems\"][stem][\"midi_program_name\"]\n",
    "        instruments.append(instrument)\n",
    "        instruments_stem.append(instrument)\n",
    "\n",
    "    # print(track_folder,instruments_stem)\n",
    "    instruments_folder.append(instruments_stem)\n",
    "    stem_audio_paths[track_folder[-5:]] = stems"
   ]
  },
  {
   "cell_type": "code",
   "execution_count": null,
   "metadata": {},
   "outputs": [],
   "source": [
    "# print(sorted(set(instruments)))\n",
    "interesting_instrs = ['French Horn', 'Bassoon','Clarinet','Electric Guitar (clean)','Viola', 'Violin', 'Trombone', 'Trumpet', 'Tuba','Alto Sax','Tenor Sax']\n",
    "indxs = [[] for i in range(len(interesting_instrs))]\n",
    "interesting_instrs_indxs = dict(zip(interesting_instrs, indxs))\n",
    "for inst in interesting_instrs:\n",
    "    interesting_instrs_indxs[inst] = [i for i, x in enumerate(instruments) if x == inst]\n",
    "    print(inst,len(interesting_instrs_indxs[inst]))\n",
    "instruments_folder"
   ]
  },
  {
   "cell_type": "code",
   "execution_count": null,
   "metadata": {},
   "outputs": [],
   "source": [
    "print(set(instruments))\n",
    "plt.hist(instruments)"
   ]
  },
  {
   "cell_type": "code",
   "execution_count": null,
   "metadata": {},
   "outputs": [],
   "source": [
    "dataset = mirdata.initialize('slakh',\"../datasets\")\n",
    "slakh_data = dataset.load_tracks()\n",
    "print(mirdata.list_datasets())\n",
    "print(dataset.remotes)\n",
    "# dataset.download(['baby'])\n",
    "print(dataset.get_mtrack_splits()['test'][:3])\n",
    "print(dataset.get_track_splits()['train'][:3])\n",
    "slakh_data['Track00001-S01'].instrument"
   ]
  },
  {
   "cell_type": "code",
   "execution_count": null,
   "metadata": {},
   "outputs": [],
   "source": [
    "slakh_data = dataset.load_tracks()\n",
    "tic = time.perf_counter()\n",
    "for i in range(1000):\n",
    "    x,sr = mirdata.datasets.slakh.load_audio(stem_audio_paths[\"00001\"][\"S00\"])\n",
    "toc = time.perf_counter()\n",
    "print(f\"{toc-tic:.4}\")\n",
    "plt.plot(x)"
   ]
  },
  {
   "cell_type": "code",
   "execution_count": 18,
   "metadata": {},
   "outputs": [
    {
     "data": {
      "text/plain": [
       "0.3333333333333333"
      ]
     },
     "execution_count": 18,
     "metadata": {},
     "output_type": "execute_result"
    }
   ],
   "source": []
  },
  {
   "cell_type": "code",
   "execution_count": 16,
   "metadata": {},
   "outputs": [
    {
     "name": "stdout",
     "output_type": "stream",
     "text": [
      "5\n",
      "6\n",
      "7\n",
      "8\n",
      "9\n"
     ]
    }
   ],
   "source": []
  }
 ],
 "metadata": {
  "interpreter": {
   "hash": "a6514cd011725473671befcd1ddd18f2c6d835eb3561b2c75e0e3523f36ab0c8"
  },
  "kernelspec": {
   "display_name": "Python 3 (ipykernel)",
   "language": "python",
   "name": "python3"
  },
  "language_info": {
   "codemirror_mode": {
    "name": "ipython",
    "version": 3
   },
   "file_extension": ".py",
   "mimetype": "text/x-python",
   "name": "python",
   "nbconvert_exporter": "python",
   "pygments_lexer": "ipython3",
   "version": "3.7.13"
  }
 },
 "nbformat": 4,
 "nbformat_minor": 2
}
