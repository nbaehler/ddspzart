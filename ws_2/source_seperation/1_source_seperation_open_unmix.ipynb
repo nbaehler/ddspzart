{
 "cells": [
  {
   "cell_type": "markdown",
   "metadata": {},
   "source": [
    "# Demonstration Source Seperation with Open Unmix\n"
   ]
  },
  {
   "cell_type": "code",
   "execution_count": null,
   "metadata": {},
   "outputs": [],
   "source": [
    "# Source seperation for trumpet\n",
    "\n",
    "# Load openunmix model\n",
    "\n",
    "# Get Audio from data loader\n",
    "\n",
    "# Example Output"
   ]
  },
  {
   "cell_type": "code",
   "execution_count": null,
   "metadata": {},
   "outputs": [],
   "source": [
    "# Get test error over test dataset\n",
    "\n",
    "# Evaluate with metrics"
   ]
  }
 ],
 "metadata": {
  "language_info": {
   "name": "python"
  },
  "orig_nbformat": 4
 },
 "nbformat": 4,
 "nbformat_minor": 2
}
