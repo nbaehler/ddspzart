{
 "cells": [
  {
   "cell_type": "code",
   "execution_count": 3,
   "metadata": {},
   "outputs": [
    {
     "name": "stdout",
     "output_type": "stream",
     "text": [
      "GPU available: False\n",
      "/home/olaf/Documents/GitHub/ddspzart/ws_2/open-unmix-pytorch\n"
     ]
    }
   ],
   "source": [
    "import torch\n",
    "import torch.utils\n",
    "import torch.utils.data\n",
    "print(\"GPU available:\", torch.cuda.is_available())\n",
    "\n",
    "%cd ../open-unmix-pytorch\n",
    "\n",
    "import openunmix\n",
    "import scipy.signal\n",
    "from IPython.display import Audio, display\n",
    "import numpy as np\n",
    "from tqdm import tnrange, tqdm_notebook\n",
    "import matplotlib.pyplot as plt\n",
    "from matplotlib import gridspec\n",
    "import warnings\n",
    "import random\n",
    "import sklearn.preprocessing\n",
    "import norbert\n",
    "import musdb\n",
    "warnings.simplefilter(action='ignore', category=FutureWarning)"
   ]
  },
  {
   "cell_type": "code",
   "execution_count": 4,
   "metadata": {},
   "outputs": [
    {
     "name": "stderr",
     "output_type": "stream",
     "text": [
      "Downloading: \"https://github.com/sigsep/open-unmix-pytorch/archive/master.zip\" to /home/olaf/.cache/torch/hub/master.zip\n",
      "Downloading: \"https://zenodo.org/api/files/1c8f83c5-33a5-4f59-b109-721fdd234875/vocals-b62c91ce.pth\" to /home/olaf/.cache/torch/hub/checkpoints/vocals-b62c91ce.pth\n"
     ]
    },
    {
     "data": {
      "application/vnd.jupyter.widget-view+json": {
       "model_id": "fa0d22e482f84c0b927e2336b57bee90",
       "version_major": 2,
       "version_minor": 0
      },
      "text/plain": [
       "  0%|          | 0.00/34.0M [00:00<?, ?B/s]"
      ]
     },
     "metadata": {},
     "output_type": "display_data"
    },
    {
     "name": "stderr",
     "output_type": "stream",
     "text": [
      "Downloading: \"https://zenodo.org/api/files/1c8f83c5-33a5-4f59-b109-721fdd234875/drums-9619578f.pth\" to /home/olaf/.cache/torch/hub/checkpoints/drums-9619578f.pth\n"
     ]
    },
    {
     "data": {
      "application/vnd.jupyter.widget-view+json": {
       "model_id": "3e8fe680bff54f25931ec474c9596cb4",
       "version_major": 2,
       "version_minor": 0
      },
      "text/plain": [
       "  0%|          | 0.00/34.0M [00:00<?, ?B/s]"
      ]
     },
     "metadata": {},
     "output_type": "display_data"
    },
    {
     "name": "stderr",
     "output_type": "stream",
     "text": [
      "Downloading: \"https://zenodo.org/api/files/1c8f83c5-33a5-4f59-b109-721fdd234875/bass-8d85a5bd.pth\" to /home/olaf/.cache/torch/hub/checkpoints/bass-8d85a5bd.pth\n"
     ]
    },
    {
     "data": {
      "application/vnd.jupyter.widget-view+json": {
       "model_id": "ce7bc3611c354c8fa2b78234e46a1e62",
       "version_major": 2,
       "version_minor": 0
      },
      "text/plain": [
       "  0%|          | 0.00/34.0M [00:00<?, ?B/s]"
      ]
     },
     "metadata": {},
     "output_type": "display_data"
    },
    {
     "name": "stderr",
     "output_type": "stream",
     "text": [
      "Downloading: \"https://zenodo.org/api/files/1c8f83c5-33a5-4f59-b109-721fdd234875/other-b52fbbf7.pth\" to /home/olaf/.cache/torch/hub/checkpoints/other-b52fbbf7.pth\n"
     ]
    },
    {
     "data": {
      "application/vnd.jupyter.widget-view+json": {
       "model_id": "760f92112f274f93806ef0595a35fbc5",
       "version_major": 2,
       "version_minor": 0
      },
      "text/plain": [
       "  0%|          | 0.00/34.0M [00:00<?, ?B/s]"
      ]
     },
     "metadata": {},
     "output_type": "display_data"
    }
   ],
   "source": [
    "separator = torch.hub.load('sigsep/open-unmix-pytorch', 'umxhq')"
   ]
  },
  {
   "cell_type": "code",
   "execution_count": 5,
   "metadata": {},
   "outputs": [
    {
     "ename": "AttributeError",
     "evalue": "module 'mirdata' has no attribute 'datasets'",
     "output_type": "error",
     "traceback": [
      "\u001b[0;31m---------------------------------------------------------------------------\u001b[0m",
      "\u001b[0;31mAttributeError\u001b[0m                            Traceback (most recent call last)",
      "\u001b[1;32m/home/olaf/Documents/GitHub/ddspzart/ws_2/source_seperation/check_it.ipynb Cell 3'\u001b[0m in \u001b[0;36m<cell line: 4>\u001b[0;34m()\u001b[0m\n\u001b[1;32m      <a href='vscode-notebook-cell:/home/olaf/Documents/GitHub/ddspzart/ws_2/source_seperation/check_it.ipynb#ch0000002?line=0'>1</a>\u001b[0m \u001b[39mimport\u001b[39;00m \u001b[39mmirdata\u001b[39;00m\n\u001b[1;32m      <a href='vscode-notebook-cell:/home/olaf/Documents/GitHub/ddspzart/ws_2/source_seperation/check_it.ipynb#ch0000002?line=1'>2</a>\u001b[0m DATASET_FOLDER \u001b[39m=\u001b[39m \u001b[39m\"\u001b[39m\u001b[39m../datasets/babyslakh_16k\u001b[39m\u001b[39m\"\u001b[39m\n\u001b[0;32m----> <a href='vscode-notebook-cell:/home/olaf/Documents/GitHub/ddspzart/ws_2/source_seperation/check_it.ipynb#ch0000002?line=3'>4</a>\u001b[0m mirdata\u001b[39m.\u001b[39;49mdatasets\u001b[39m.\u001b[39mslakh\u001b[39m.\u001b[39mload_audio(DATASET_FOLDER \u001b[39m+\u001b[39m \u001b[39m\"\u001b[39m\u001b[39m/\u001b[39m\u001b[39m\"\u001b[39m \u001b[39m+\u001b[39m \u001b[39m\"\u001b[39m\u001b[39mTrack00003\u001b[39m\u001b[39m\"\u001b[39m \u001b[39m+\u001b[39m \u001b[39m\"\u001b[39m\u001b[39m/mix.wav\u001b[39m\u001b[39m\"\u001b[39m)\n",
      "\u001b[0;31mAttributeError\u001b[0m: module 'mirdata' has no attribute 'datasets'"
     ]
    }
   ],
   "source": [
    "import mirdata\n",
    "DATASET_FOLDER = \"../datasets/babyslakh_16k\"\n",
    "mirdata.datasets.slakh.load_audio(DATASET_FOLDER + \"/\" + \"Track00003\" + \"/mix.wav\")"
   ]
  }
 ],
 "metadata": {
  "interpreter": {
   "hash": "54cf30078462267a6372a16d1aad33be18b8113e475b27f2e84ce0a02ad7eca1"
  },
  "kernelspec": {
   "display_name": "Python 3.10.4 ('source_sep')",
   "language": "python",
   "name": "python3"
  },
  "language_info": {
   "codemirror_mode": {
    "name": "ipython",
    "version": 3
   },
   "file_extension": ".py",
   "mimetype": "text/x-python",
   "name": "python",
   "nbconvert_exporter": "python",
   "pygments_lexer": "ipython3",
   "version": "3.10.4"
  },
  "orig_nbformat": 4
 },
 "nbformat": 4,
 "nbformat_minor": 2
}
