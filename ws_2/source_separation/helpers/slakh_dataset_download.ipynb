{
 "cells": [
  {
   "cell_type": "markdown",
   "metadata": {},
   "source": [
    "# SLAKH Dataset Working"
   ]
  },
  {
   "cell_type": "code",
   "execution_count": 1,
   "metadata": {},
   "outputs": [],
   "source": [
    "import os\n",
    "import yaml\n",
    "from benedict import benedict\n",
    "import matplotlib.pyplot as plt\n",
    "import torch\n",
    "import mirdata\n",
    "import time\n",
    "\n",
    "%load_ext autoreload\n",
    "%autoreload 2\n",
    "\n",
    "from use_openunmix import Target, Track, SlakhDataset"
   ]
  },
  {
   "cell_type": "code",
   "execution_count": 13,
   "metadata": {},
   "outputs": [],
   "source": [
    "import mirdata\n",
    "import time"
   ]
  },
  {
   "cell_type": "code",
   "execution_count": 2,
   "metadata": {},
   "outputs": [
    {
     "name": "stdout",
     "output_type": "stream",
     "text": [
      "['acousticbrainz_genre', 'beatles', 'beatport_key', 'billboard', 'cante100', 'compmusic_jingju_acappella', 'compmusic_otmm_makam', 'da_tacos', 'dagstuhl_choirset', 'dali', 'freesound_one_shot_percussive_sounds', 'giantsteps_key', 'giantsteps_tempo', 'good_sounds', 'groove_midi', 'gtzan_genre', 'guitarset', 'haydn_op20', 'ikala', 'irmas', 'maestro', 'medley_solos_db', 'medleydb_melody', 'medleydb_pitch', 'mridangam_stroke', 'mtg_jamendo_autotagging_moodtheme', 'orchset', 'phenicx_anechoic', 'queen', 'rwc_classical', 'rwc_jazz', 'rwc_popular', 'salami', 'saraga_carnatic', 'saraga_hindustani', 'slakh', 'tinysol', 'tonality_classicaldb', 'tonas', 'vocadito']\n",
      "{'2100-redux': <mirdata.download_utils.RemoteFileMetadata object at 0x7f8595c310d0>, 'baby': <mirdata.download_utils.RemoteFileMetadata object at 0x7f85933a7c50>}\n"
     ]
    },
    {
     "ename": "TypeError",
     "evalue": "download() got multiple values for argument 'partial_download'",
     "output_type": "error",
     "traceback": [
      "\u001b[0;31m---------------------------------------------------------------------------\u001b[0m",
      "\u001b[0;31mTypeError\u001b[0m                                 Traceback (most recent call last)",
      "\u001b[0;32m/tmp/ipykernel_244488/2810522089.py\u001b[0m in \u001b[0;36m<module>\u001b[0;34m\u001b[0m\n\u001b[1;32m      2\u001b[0m \u001b[0mprint\u001b[0m\u001b[0;34m(\u001b[0m\u001b[0mmirdata\u001b[0m\u001b[0;34m.\u001b[0m\u001b[0mlist_datasets\u001b[0m\u001b[0;34m(\u001b[0m\u001b[0;34m)\u001b[0m\u001b[0;34m)\u001b[0m\u001b[0;34m\u001b[0m\u001b[0;34m\u001b[0m\u001b[0m\n\u001b[1;32m      3\u001b[0m \u001b[0mprint\u001b[0m\u001b[0;34m(\u001b[0m\u001b[0mdataset\u001b[0m\u001b[0;34m.\u001b[0m\u001b[0mremotes\u001b[0m\u001b[0;34m)\u001b[0m\u001b[0;34m\u001b[0m\u001b[0;34m\u001b[0m\u001b[0m\n\u001b[0;32m----> 4\u001b[0;31m \u001b[0mdataset\u001b[0m\u001b[0;34m.\u001b[0m\u001b[0mdownload\u001b[0m\u001b[0;34m(\u001b[0m\u001b[0;34m[\u001b[0m\u001b[0;34m'2100-redux'\u001b[0m\u001b[0;34m]\u001b[0m\u001b[0;34m,\u001b[0m \u001b[0mpartial_download\u001b[0m\u001b[0;34m=\u001b[0m\u001b[0;34m[\u001b[0m\u001b[0;36m0\u001b[0m\u001b[0;34m]\u001b[0m\u001b[0;34m)\u001b[0m\u001b[0;34m\u001b[0m\u001b[0;34m\u001b[0m\u001b[0m\n\u001b[0m",
      "\u001b[0;31mTypeError\u001b[0m: download() got multiple values for argument 'partial_download'"
     ]
    }
   ],
   "source": [
    "dataset = mirdata.initialize('slakh',\"/media/olaf/OlafSSD/03_Dokumente/01_epfl/01_cm\")\n",
    "print(mirdata.list_datasets())\n",
    "print(dataset.remotes)\n",
    "# dataset.download(['2100-redux'])\n",
    "slakh_data = dataset.load_tracks()"
   ]
  },
  {
   "cell_type": "code",
   "execution_count": null,
   "metadata": {},
   "outputs": [],
   "source": [
    "for track_id in dataset.track_ids[:3]:\n",
    "    print(track_id, dataset.track(track_id).audio_path)\n",
    "\n",
    "mirdata.datasets.slakh.load_audio(dataset.track(track_id).audio_path)"
   ]
  },
  {
   "cell_type": "code",
   "execution_count": 14,
   "metadata": {},
   "outputs": [
    {
     "ename": "AttributeError",
     "evalue": "module 'mirdata' has no attribute 'datasets'",
     "output_type": "error",
     "traceback": [
      "\u001b[0;31m---------------------------------------------------------------------------\u001b[0m",
      "\u001b[0;31mAttributeError\u001b[0m                            Traceback (most recent call last)",
      "\u001b[1;32m/home/olaf/Documents/GitHub/ddspzart/ws_2/source_separation/slakh_dataset.ipynb Cell 18'\u001b[0m in \u001b[0;36m<cell line: 2>\u001b[0;34m()\u001b[0m\n\u001b[1;32m      <a href='vscode-notebook-cell:/home/olaf/Documents/GitHub/ddspzart/ws_2/source_separation/slakh_dataset.ipynb#ch0000023?line=0'>1</a>\u001b[0m DATASET_FOLDER \u001b[39m=\u001b[39m \u001b[39m\"\u001b[39m\u001b[39m/media/olaf/OlafSSD/03_Dokumente/01_epfl/01_cm/slakh2100_flac_redux/train\u001b[39m\u001b[39m\"\u001b[39m\n\u001b[0;32m----> <a href='vscode-notebook-cell:/home/olaf/Documents/GitHub/ddspzart/ws_2/source_separation/slakh_dataset.ipynb#ch0000023?line=1'>2</a>\u001b[0m mirdata\u001b[39m.\u001b[39;49mdatasets\u001b[39m.\u001b[39mslakh\u001b[39m.\u001b[39mload_audio(DATASET_FOLDER\u001b[39m+\u001b[39m\u001b[39m\"\u001b[39m\u001b[39m/Track00001/stems/S01.flac\u001b[39m\u001b[39m\"\u001b[39m)\n",
      "\u001b[0;31mAttributeError\u001b[0m: module 'mirdata' has no attribute 'datasets'"
     ]
    }
   ],
   "source": [
    "DATASET_FOLDER = \"/media/olaf/OlafSSD/03_Dokumente/01_epfl/01_cm/slakh2100_flac_redux/train\"\n",
    "mirdata.datasets.slakh.load_audio(DATASET_FOLDER+\"/Track00001/stems/S01.flac\")"
   ]
  }
 ],
 "metadata": {
  "interpreter": {
   "hash": "a6514cd011725473671befcd1ddd18f2c6d835eb3561b2c75e0e3523f36ab0c8"
  },
  "kernelspec": {
   "display_name": "Python 3.7.13 ('.openunmix_venv': venv)",
   "language": "python",
   "name": "python3"
  },
  "language_info": {
   "codemirror_mode": {
    "name": "ipython",
    "version": 3
   },
   "file_extension": ".py",
   "mimetype": "text/x-python",
   "name": "python",
   "nbconvert_exporter": "python",
   "pygments_lexer": "ipython3",
   "version": "3.7.13"
  }
 },
 "nbformat": 4,
 "nbformat_minor": 2
}
